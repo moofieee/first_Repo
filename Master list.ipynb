{
 "cells": [
  {
   "cell_type": "markdown",
   "id": "11d328c6",
   "metadata": {},
   "source": [
    "# HIGHEST OF 3 NUMBERS"
   ]
  },
  {
   "cell_type": "code",
   "execution_count": null,
   "id": "4b3259fc",
   "metadata": {},
   "outputs": [],
   "source": [
    "num1 = float(input('Enter 1st number: '))\n",
    "num2 = float(input('Enter 2nd number: '))\n",
    "num3 = float(input('Enter 3rd number: '))\n",
    "\n",
    "if (num1>num2) and (num1>num3):\n",
    "    print('The largest number is =',num1)\n",
    "elif (num2>num1) and (num2>num3):\n",
    "    print('The largest number is =',num2)\n",
    "else:\n",
    "    print('The largest number is =',num3)\n",
    "    "
   ]
  },
  {
   "cell_type": "code",
   "execution_count": null,
   "id": "10cfd8e8",
   "metadata": {},
   "outputs": [],
   "source": []
  },
  {
   "cell_type": "markdown",
   "id": "f6ccf481",
   "metadata": {},
   "source": [
    "# CREATED MY DSATASET\n"
   ]
  },
  {
   "cell_type": "code",
   "execution_count": 2,
   "id": "2827dada",
   "metadata": {},
   "outputs": [],
   "source": [
    "import pandas as pd\n",
    "import numpy as np\n",
    "import matplotlib.pyplot as plt"
   ]
  },
  {
   "cell_type": "code",
   "execution_count": 2,
   "id": "6efce0d7",
   "metadata": {},
   "outputs": [
    {
     "data": {
      "text/html": [
       "<div>\n",
       "<style scoped>\n",
       "    .dataframe tbody tr th:only-of-type {\n",
       "        vertical-align: middle;\n",
       "    }\n",
       "\n",
       "    .dataframe tbody tr th {\n",
       "        vertical-align: top;\n",
       "    }\n",
       "\n",
       "    .dataframe thead th {\n",
       "        text-align: right;\n",
       "    }\n",
       "</style>\n",
       "<table border=\"1\" class=\"dataframe\">\n",
       "  <thead>\n",
       "    <tr style=\"text-align: right;\">\n",
       "      <th></th>\n",
       "      <th>NAME</th>\n",
       "      <th>AGE</th>\n",
       "      <th>HEIGHT</th>\n",
       "      <th>STATUS</th>\n",
       "      <th>GENDER</th>\n",
       "    </tr>\n",
       "  </thead>\n",
       "  <tbody>\n",
       "    <tr>\n",
       "      <th>0</th>\n",
       "      <td>MANAL</td>\n",
       "      <td>23</td>\n",
       "      <td>5.11</td>\n",
       "      <td>SINGLE</td>\n",
       "      <td>M</td>\n",
       "    </tr>\n",
       "    <tr>\n",
       "      <th>1</th>\n",
       "      <td>KRUTIK</td>\n",
       "      <td>22</td>\n",
       "      <td>5.4</td>\n",
       "      <td>SINGLE</td>\n",
       "      <td>M</td>\n",
       "    </tr>\n",
       "    <tr>\n",
       "      <th>2</th>\n",
       "      <td>NANCY</td>\n",
       "      <td>21</td>\n",
       "      <td>5.6</td>\n",
       "      <td>ENGAGED</td>\n",
       "      <td>F</td>\n",
       "    </tr>\n",
       "    <tr>\n",
       "      <th>3</th>\n",
       "      <td>VIRAJ</td>\n",
       "      <td>22</td>\n",
       "      <td>5.8</td>\n",
       "      <td>SINGLE</td>\n",
       "      <td>M</td>\n",
       "    </tr>\n",
       "    <tr>\n",
       "      <th>4</th>\n",
       "      <td>MITESH</td>\n",
       "      <td>27</td>\n",
       "      <td>5.5</td>\n",
       "      <td>SINGLE</td>\n",
       "      <td>M</td>\n",
       "    </tr>\n",
       "    <tr>\n",
       "      <th>5</th>\n",
       "      <td>JAY</td>\n",
       "      <td>28</td>\n",
       "      <td>5.7</td>\n",
       "      <td>ENGAGED</td>\n",
       "      <td>M</td>\n",
       "    </tr>\n",
       "  </tbody>\n",
       "</table>\n",
       "</div>"
      ],
      "text/plain": [
       "     NAME AGE HEIGHT   STATUS GENDER\n",
       "0   MANAL  23   5.11   SINGLE      M\n",
       "1  KRUTIK  22    5.4   SINGLE      M\n",
       "2   NANCY  21    5.6  ENGAGED      F\n",
       "3   VIRAJ  22    5.8   SINGLE      M\n",
       "4  MITESH  27    5.5   SINGLE      M\n",
       "5     JAY  28    5.7  ENGAGED      M"
      ]
     },
     "execution_count": 2,
     "metadata": {},
     "output_type": "execute_result"
    }
   ],
   "source": [
    "data = {'NAME':['MANAL','KRUTIK','NANCY','VIRAJ','MITESH','JAY'],'AGE':['23','22','21','22','27','28'],\n",
    "        'HEIGHT':['5.11','5.4','5.6','5.8','5.5','5.7'],'STATUS':['SINGLE','SINGLE','ENGAGED','SINGLE','SINGLE','ENGAGED'],\n",
    "        'GENDER':['M','M','F','M','M','M']}\n",
    "\n",
    "df = pd.DataFrame(data) \n",
    "df"
   ]
  },
  {
   "cell_type": "code",
   "execution_count": null,
   "id": "885f2f6a",
   "metadata": {},
   "outputs": [],
   "source": []
  },
  {
   "cell_type": "code",
   "execution_count": 3,
   "id": "3f481afd",
   "metadata": {},
   "outputs": [
    {
     "data": {
      "text/html": [
       "<div>\n",
       "<style scoped>\n",
       "    .dataframe tbody tr th:only-of-type {\n",
       "        vertical-align: middle;\n",
       "    }\n",
       "\n",
       "    .dataframe tbody tr th {\n",
       "        vertical-align: top;\n",
       "    }\n",
       "\n",
       "    .dataframe thead th {\n",
       "        text-align: right;\n",
       "    }\n",
       "</style>\n",
       "<table border=\"1\" class=\"dataframe\">\n",
       "  <thead>\n",
       "    <tr style=\"text-align: right;\">\n",
       "      <th></th>\n",
       "      <th>NAME</th>\n",
       "      <th>AGE</th>\n",
       "      <th>HEIGHT</th>\n",
       "      <th>STATUS</th>\n",
       "      <th>GENDER</th>\n",
       "    </tr>\n",
       "  </thead>\n",
       "  <tbody>\n",
       "    <tr>\n",
       "      <th>0</th>\n",
       "      <td>MANAL</td>\n",
       "      <td>23</td>\n",
       "      <td>5.11</td>\n",
       "      <td>SINGLE</td>\n",
       "      <td>M</td>\n",
       "    </tr>\n",
       "    <tr>\n",
       "      <th>1</th>\n",
       "      <td>KRUTIK</td>\n",
       "      <td>22</td>\n",
       "      <td>5.4</td>\n",
       "      <td>SINGLE</td>\n",
       "      <td>M</td>\n",
       "    </tr>\n",
       "    <tr>\n",
       "      <th>2</th>\n",
       "      <td>NANCY</td>\n",
       "      <td>21</td>\n",
       "      <td>5.6</td>\n",
       "      <td>ENGAGED</td>\n",
       "      <td>F</td>\n",
       "    </tr>\n",
       "    <tr>\n",
       "      <th>3</th>\n",
       "      <td>VIRAJ</td>\n",
       "      <td>22</td>\n",
       "      <td>5.8</td>\n",
       "      <td>SINGLE</td>\n",
       "      <td>M</td>\n",
       "    </tr>\n",
       "    <tr>\n",
       "      <th>4</th>\n",
       "      <td>MITESH</td>\n",
       "      <td>27</td>\n",
       "      <td>5.5</td>\n",
       "      <td>SINGLE</td>\n",
       "      <td>M</td>\n",
       "    </tr>\n",
       "  </tbody>\n",
       "</table>\n",
       "</div>"
      ],
      "text/plain": [
       "     NAME AGE HEIGHT   STATUS GENDER\n",
       "0   MANAL  23   5.11   SINGLE      M\n",
       "1  KRUTIK  22    5.4   SINGLE      M\n",
       "2   NANCY  21    5.6  ENGAGED      F\n",
       "3   VIRAJ  22    5.8   SINGLE      M\n",
       "4  MITESH  27    5.5   SINGLE      M"
      ]
     },
     "execution_count": 3,
     "metadata": {},
     "output_type": "execute_result"
    }
   ],
   "source": [
    "df.head()"
   ]
  },
  {
   "cell_type": "code",
   "execution_count": 7,
   "id": "0827ab65",
   "metadata": {},
   "outputs": [
    {
     "data": {
      "text/html": [
       "<div>\n",
       "<style scoped>\n",
       "    .dataframe tbody tr th:only-of-type {\n",
       "        vertical-align: middle;\n",
       "    }\n",
       "\n",
       "    .dataframe tbody tr th {\n",
       "        vertical-align: top;\n",
       "    }\n",
       "\n",
       "    .dataframe thead th {\n",
       "        text-align: right;\n",
       "    }\n",
       "</style>\n",
       "<table border=\"1\" class=\"dataframe\">\n",
       "  <thead>\n",
       "    <tr style=\"text-align: right;\">\n",
       "      <th></th>\n",
       "      <th>NAME</th>\n",
       "      <th>AGE</th>\n",
       "      <th>HEIGHT</th>\n",
       "      <th>STATUS</th>\n",
       "      <th>GENDER</th>\n",
       "    </tr>\n",
       "  </thead>\n",
       "  <tbody>\n",
       "    <tr>\n",
       "      <th>0</th>\n",
       "      <td>False</td>\n",
       "      <td>False</td>\n",
       "      <td>False</td>\n",
       "      <td>False</td>\n",
       "      <td>False</td>\n",
       "    </tr>\n",
       "    <tr>\n",
       "      <th>1</th>\n",
       "      <td>False</td>\n",
       "      <td>False</td>\n",
       "      <td>False</td>\n",
       "      <td>False</td>\n",
       "      <td>False</td>\n",
       "    </tr>\n",
       "    <tr>\n",
       "      <th>2</th>\n",
       "      <td>False</td>\n",
       "      <td>False</td>\n",
       "      <td>False</td>\n",
       "      <td>False</td>\n",
       "      <td>False</td>\n",
       "    </tr>\n",
       "    <tr>\n",
       "      <th>3</th>\n",
       "      <td>False</td>\n",
       "      <td>False</td>\n",
       "      <td>False</td>\n",
       "      <td>False</td>\n",
       "      <td>False</td>\n",
       "    </tr>\n",
       "    <tr>\n",
       "      <th>4</th>\n",
       "      <td>False</td>\n",
       "      <td>False</td>\n",
       "      <td>False</td>\n",
       "      <td>False</td>\n",
       "      <td>False</td>\n",
       "    </tr>\n",
       "    <tr>\n",
       "      <th>5</th>\n",
       "      <td>False</td>\n",
       "      <td>False</td>\n",
       "      <td>False</td>\n",
       "      <td>False</td>\n",
       "      <td>False</td>\n",
       "    </tr>\n",
       "  </tbody>\n",
       "</table>\n",
       "</div>"
      ],
      "text/plain": [
       "    NAME    AGE  HEIGHT  STATUS  GENDER\n",
       "0  False  False   False   False   False\n",
       "1  False  False   False   False   False\n",
       "2  False  False   False   False   False\n",
       "3  False  False   False   False   False\n",
       "4  False  False   False   False   False\n",
       "5  False  False   False   False   False"
      ]
     },
     "execution_count": 7,
     "metadata": {},
     "output_type": "execute_result"
    }
   ],
   "source": [
    "df.info() ,df.shape\n"
   ]
  },
  {
   "cell_type": "code",
   "execution_count": null,
   "id": "60a32e54",
   "metadata": {},
   "outputs": [],
   "source": [
    "df.describe() "
   ]
  },
  {
   "cell_type": "code",
   "execution_count": null,
   "id": "b7140d90",
   "metadata": {},
   "outputs": [],
   "source": [
    " "
   ]
  },
  {
   "cell_type": "code",
   "execution_count": 14,
   "id": "d48bd130",
   "metadata": {},
   "outputs": [
    {
     "data": {
      "text/plain": [
       "NAME      0\n",
       "AGE       0\n",
       "HEIGHT    0\n",
       "STATUS    0\n",
       "GENDER    0\n",
       "dtype: int64"
      ]
     },
     "execution_count": 14,
     "metadata": {},
     "output_type": "execute_result"
    }
   ],
   "source": [
    "df.isnull().sum()\n"
   ]
  },
  {
   "cell_type": "code",
   "execution_count": 19,
   "id": "355c2b65",
   "metadata": {},
   "outputs": [
    {
     "data": {
      "text/plain": [
       "array(['M', 'F'], dtype=object)"
      ]
     },
     "execution_count": 19,
     "metadata": {},
     "output_type": "execute_result"
    }
   ],
   "source": [
    "df['GENDER'].unique()"
   ]
  },
  {
   "cell_type": "code",
   "execution_count": 21,
   "id": "3e67f62e",
   "metadata": {},
   "outputs": [
    {
     "data": {
      "text/plain": [
       "<AxesSubplot:ylabel='AGE'>"
      ]
     },
     "execution_count": 21,
     "metadata": {},
     "output_type": "execute_result"
    },
    {
     "data": {
      "image/png": "[encoded data removed]",
      "text/plain": [
       "<Figure size 360x360 with 1 Axes>"
      ]
     },
     "metadata": {},
     "output_type": "display_data"
    }
   ],
   "source": [
    "# matplotlib\n",
    "#Categorical visualization of AGE in pie diagram\n",
    "\n",
    "df['AGE'].value_counts().plot(kind=('pie'),figsize=(5,5))"
   ]
  },
  {
   "cell_type": "markdown",
   "id": "04ee8fb3",
   "metadata": {},
   "source": [
    "## BAR GRAPH FOR AGE COMPARION \n"
   ]
  },
  {
   "cell_type": "code",
   "execution_count": null,
   "id": "2e4a9786",
   "metadata": {},
   "outputs": [],
   "source": []
  },
  {
   "cell_type": "code",
   "execution_count": 3,
   "id": "a1f3f9c3",
   "metadata": {},
   "outputs": [
    {
     "data": {
      "text/plain": [
       "array([0, 1, 2, 3, 4, 5])"
      ]
     },
     "execution_count": 3,
     "metadata": {},
     "output_type": "execute_result"
    }
   ],
   "source": [
    "NAME = ['MANAL' , 'KRUTIK','NANCY','VIRAJ','MITESH','JAY']\n",
    "AGE = [23,22,21,22,27,28]\n",
    "\n",
    "temp=np.arange(len(NAME))\n",
    "temp"
   ]
  },
  {
   "cell_type": "code",
   "execution_count": 4,
   "id": "b139e8e2",
   "metadata": {},
   "outputs": [
    {
     "data": {
      "text/plain": [
       "<BarContainer object of 6 artists>"
      ]
     },
     "execution_count": 4,
     "metadata": {},
     "output_type": "execute_result"
    },
    {
     "data": {
      "image/png": "[encoded data removed]",
      "text/plain": [
       "<Figure size 432x288 with 1 Axes>"
      ]
     },
     "metadata": {
      "needs_background": "light"
     },
     "output_type": "display_data"
    }
   ],
   "source": [
    "plt.xticks(temp,NAME)\n",
    "plt.ylabel('age')\n",
    "plt.title('AGE COMPARISION')\n",
    "plt.bar(temp,AGE)"
   ]
  },
  {
   "cell_type": "code",
   "execution_count": null,
   "id": "c800cef0",
   "metadata": {},
   "outputs": [],
   "source": []
  }
 ],
 "metadata": {
  "kernelspec": {
   "display_name": "Python 3 (ipykernel)",
   "language": "python",
   "name": "python3"
  },
  "language_info": {
   "codemirror_mode": {
    "name": "ipython",
    "version": 3
   },
   "file_extension": ".py",
   "mimetype": "text/x-python",
   "name": "python",
   "nbconvert_exporter": "python",
   "pygments_lexer": "ipython3",
   "version": "3.9.12"
  },
  "widgets": {
   "application/vnd.jupyter.widget-state+json": {
    "state": {},
    "version_major": 2,
    "version_minor": 0
   }
  }
 },
 "nbformat": 4,
 "nbformat_minor": 5
}
